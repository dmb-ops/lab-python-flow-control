{
 "cells": [
  {
   "cell_type": "markdown",
   "id": "d3bfc191-8885-42ee-b0a0-bbab867c6f9f",
   "metadata": {
    "tags": []
   },
   "source": [
    "# Lab | Flow Control"
   ]
  },
  {
   "cell_type": "markdown",
   "id": "3851fcd1-cf98-4653-9c89-e003b7ec9400",
   "metadata": {},
   "source": [
    "## Exercise: Managing Customer Orders Optimized\n",
    "\n",
    "In the last lab, you were starting an online store that sells various products. To ensure smooth operations, you developed a program that manages customer orders and inventory.\n",
    "\n",
    "You did so without using flow control. Let's go a step further and improve this code.\n",
    "\n",
    "Follow the steps below to complete the exercise:\n",
    "\n",
    "1. Look at your code from the lab data structures, and improve repeated code with loops.\n",
    "\n",
    "2. Instead of asking the user to input the name of three products that a customer wants to order, do the following:\n",
    "    \n",
    "    a. Prompt the user to enter the name of a product that a customer wants to order.\n",
    "    \n",
    "    b. Add the product name to the \"customer_orders\" set.\n",
    "    \n",
    "    c. Ask the user if they want to add another product (yes/no).\n",
    "    \n",
    "    d. Continue the loop until the user does not want to add another product.\n",
    "\n",
    "3. Instead of updating the inventory by subtracting 1 from the quantity of each product, only do it for  the products that were ordered (those in \"customer_orders\")."
   ]
  },
  {
   "cell_type": "code",
   "execution_count": 11,
   "id": "c0278875-560e-43f7-b577-010bf6f6f25d",
   "metadata": {},
   "outputs": [
    {
     "name": "stdin",
     "output_type": "stream",
     "text": [
      "Enter a product from ['t-shirt', 'mug', 'hat', 'book', 'keychain']:  mug\n",
      "Enter a product from ['t-shirt', 'mug', 'hat', 'book', 'keychain']:  book\n",
      "Enter a product from ['t-shirt', 'mug', 'hat', 'book', 'keychain']:  hat\n"
     ]
    },
    {
     "name": "stdout",
     "output_type": "stream",
     "text": [
      "\n",
      "Your order: {'book', 'mug', 'hat'}\n",
      "Order stats (Total Ordered, % Ordered): (3, 60.0)\n"
     ]
    }
   ],
   "source": [
    "#1\n",
    "def get_order_statistics():\n",
    "    products = [\"t-shirt\", \"mug\", \"hat\", \"book\", \"keychain\"]\n",
    "    customer_orders = set()\n",
    "    attempts = 3\n",
    "\n",
    "    while len(customer_orders) < attempts:\n",
    "        order = input(f\"Enter a product from {products}: \").strip().lower()\n",
    "        if order in products:\n",
    "            customer_orders.add(order)\n",
    "        else:\n",
    "            print(\"Invalid product. Try again.\")\n",
    "\n",
    "    total_ordered = len(customer_orders)\n",
    "    percentage_ordered = (total_ordered / len(products)) * 100\n",
    "    order_status = (total_ordered, percentage_ordered)\n",
    "\n",
    "    print(\"\\nYour order:\", customer_orders)\n",
    "    print(\"Order stats (Total Ordered, % Ordered):\", order_status)\n",
    "\n",
    "    return order_status\n",
    "\n",
    "\n",
    "stats = get_order_statistics()"
   ]
  },
  {
   "cell_type": "code",
   "execution_count": 15,
   "id": "fd5b0f01-1355-423e-a6d2-d67f915addb8",
   "metadata": {},
   "outputs": [
    {
     "name": "stdin",
     "output_type": "stream",
     "text": [
      "Enter a product from ['t-shirt', 'mug', 'hat', 'book', 'keychain']:  book\n",
      "Do you want to add another product? (yes/no):  yes\n",
      "Enter a product from ['t-shirt', 'mug', 'hat', 'book', 'keychain']:  hat\n",
      "Do you want to add another product? (yes/no):  no\n"
     ]
    },
    {
     "name": "stdout",
     "output_type": "stream",
     "text": [
      "\n",
      "Your order: {'book', 'hat'}\n",
      "Order stats (Total Ordered, % Ordered): (2, 40.0)\n"
     ]
    }
   ],
   "source": [
    "2.\n",
    "def get_order_statistics():\n",
    "    products = [\"t-shirt\", \"mug\", \"hat\", \"book\", \"keychain\"]\n",
    "    customer_orders = set()\n",
    "\n",
    "    while True:\n",
    "        order = input(f\"Enter a product from {products}: \").strip().lower()\n",
    "        if order in products:\n",
    "            customer_orders.add(order)\n",
    "        else:\n",
    "            print(\"Invalid product. Try again.\")\n",
    "            continue\n",
    "\n",
    "        more = input(\"Do you want to add another product? (yes/no): \").strip().lower()\n",
    "        if more != \"yes\":\n",
    "            break\n",
    "\n",
    "    total_ordered = len(customer_orders)\n",
    "    percentage_ordered = (total_ordered / len(products)) * 100\n",
    "    order_status = (total_ordered, percentage_ordered)\n",
    "\n",
    "    print(\"\\nYour order:\", customer_orders)\n",
    "    print(\"Order stats (Total Ordered, % Ordered):\", order_status)\n",
    "\n",
    "    return order_status\n",
    "\n",
    "stats = get_order_statistics()"
   ]
  },
  {
   "cell_type": "code",
   "execution_count": 2,
   "id": "8db3cb8a-7b7f-4a83-a907-946ca2692563",
   "metadata": {},
   "outputs": [],
   "source": [
    "\n",
    "def get_order_statistics() -> tuple[int, float]:\n",
    "\n",
    "    products = [\"t-shirt\", \"mug\", \"hat\", \"book\", \"keychain\"]\n",
    "    inventory = {\n",
    "        \"t-shirt\": 10,\n",
    "        \"mug\": 10,\n",
    "        \"hat\": 10,\n",
    "        \"book\": 10,\n",
    "        \"keychain\": 10\n",
    "    }\n",
    "    customer_orders = set()\n",
    "\n",
    "    while True:\n",
    "        # Display available products and get user input\n",
    "        order = input(f\"Enter a product from {products}: \").strip().lower()\n",
    "        \n",
    "        if order in products:\n",
    "            customer_orders.add(order)\n",
    "        else:\n",
    "            print(\"Invalid product. Try again.\")\n",
    "            continue\n",
    "\n",
    "        # Check if user wants to continue ordering\n",
    "        more = input(\"Do you want to add another product? (yes/no): \").strip().lower()\n",
    "        if more != \"yes\":\n",
    "            break\n",
    "\n",
    "    # Update inventory for ordered products\n",
    "    for product in customer_orders:\n",
    "        if inventory[product] > 0:\n",
    "            inventory[product] -= 1\n",
    "\n",
    "    # Calculate order statistics\n",
    "    total_ordered = len(customer_orders)\n",
    "    percentage_ordered = (total_ordered / len(products)) * 100\n",
    "    order_status = (total_ordered, percentage_ordered)\n",
    "\n",
    "    # Display order summary\n",
    "    print(\"\\nYour order:\", customer_orders)\n",
    "    print(\"Order stats (Total Ordered, % Ordered):\", order_status)\n",
    "    print(\"Updated inventory:\", inventory)\n",
    "\n",
    "    return order_status\n",
    "    stats = get_order_statistics()\n"
   ]
  },
  {
   "cell_type": "code",
   "execution_count": null,
   "id": "46d26d1f-2692-4975-a0dd-5894000673e0",
   "metadata": {},
   "outputs": [],
   "source": []
  }
 ],
 "metadata": {
  "kernelspec": {
   "display_name": "Python [conda env:base] *",
   "language": "python",
   "name": "conda-base-py"
  },
  "language_info": {
   "codemirror_mode": {
    "name": "ipython",
    "version": 3
   },
   "file_extension": ".py",
   "mimetype": "text/x-python",
   "name": "python",
   "nbconvert_exporter": "python",
   "pygments_lexer": "ipython3",
   "version": "3.12.7"
  }
 },
 "nbformat": 4,
 "nbformat_minor": 5
}
